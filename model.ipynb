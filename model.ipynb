{
 "cells": [
  {
   "cell_type": "code",
   "execution_count": 4,
   "metadata": {},
   "outputs": [],
   "source": [
    "import tensorflow as tf\n",
    "from tensorflow import keras\n",
    "from keras.models import Sequential\n",
    "from keras.layers import LSTM, Dense, Dropout, Masking, Embedding"
   ]
  },
  {
   "cell_type": "code",
   "execution_count": null,
   "metadata": {},
   "outputs": [],
   "source": [
    "import requests"
   ]
  },
  {
   "cell_type": "code",
   "execution_count": 1,
   "metadata": {},
   "outputs": [],
   "source": [
    "meals = [\n",
    "  {\n",
    "    \"id\": 1,\n",
    "    \"name\": \"Spaghetti Bolognese\",\n",
    "    \"health_index\": 3,\n",
    "    \"glycemic_index\": 52,\n",
    "    \"protein\": 7,\n",
    "    \"carbohydrates\": 15,\n",
    "    \"fats\": 8.5,\n",
    "    \"fiber\": 1,\n",
    "    \"meal_type\": 2,\n",
    "    \"weight\": 200,\n",
    "    \"satisfaction\": 3,\n",
    "    \"flavor\": 3,\n",
    "    \"satiety\": 3,\n",
    "    \"digestions\": 3,\n",
    "    \"energy\": 3,\n",
    "  },\n",
    "  {\n",
    "    \"id\": 2,\n",
    "    \"name\": \"Wheat bread\",\n",
    "    \"health_index\": 4,\n",
    "    \"glycemic_index\": 70,\n",
    "    \"protein\": 10.7,\n",
    "    \"carbohydrates\": 47.5,\n",
    "    \"fats\": 4.53,\n",
    "    \"fiber\": 4,\n",
    "    \"meal_type\": 1,\n",
    "    \"weight\": 400,\n",
    "    \"satisfaction\": 4,\n",
    "    \"flavor\": 4,\n",
    "    \"satiety\": 4,\n",
    "    \"digestions\": 4,\n",
    "    \"energy\": 4,\n",
    "  },\n",
    "  # {\n",
    "  #   \"id\": 3,\n",
    "  #   \"name\": \"Rye bread\",\n",
    "  #   \"health_index\": 5,\n",
    "  #   \"glycemic_index\": 65,\n",
    "  #   \"protein\": 9,\n",
    "  #   \"carbohydrates\": 48,\n",
    "  #   \"fats\": 3.3,\n",
    "  #   \"fiber\": 5.8,\n",
    "  #   \"meal_type\": 1,\n",
    "  #   \"weight\": 100,\n",
    "  #   # \"satisfaction\": 5,\n",
    "  #   # \"flavor\": 5,\n",
    "  #   # \"satiety\": 5,\n",
    "  #   # \"digestions\": 5,\n",
    "  #   # \"energy\": 5,\n",
    "  # },\n",
    "]\n",
    "\n",
    "meal_target = {\n",
    "    \"id\": 3,\n",
    "    \"name\": \"Rye bread\",\n",
    "    \"health_index\": 5,\n",
    "    \"glycemic_index\": 65,\n",
    "    \"protein\": 9,\n",
    "    \"carbohydrates\": 48,\n",
    "    \"fats\": 3.3,\n",
    "    \"fiber\": 5.8,\n",
    "    \"meal_type\": 1,\n",
    "    \"weight\": 100,\n",
    "  }\n",
    "\n",
    "exercises = [\n",
    "  {\n",
    "    \"id\": 1,\n",
    "    \"name\": \"Marching in place\",\n",
    "    \"exercise_type\": 1,\n",
    "    \"category\": 1,\n",
    "    \"time\": 120,\n",
    "    \"repetitions\": 0,\n",
    "    \"effort\": 1,\n",
    "    \"enjoyment\": 4,\n",
    "    \"comfort\": 4,\n",
    "    \"wellbeing\": 3,\n",
    "    \"motivation\": 3,\n",
    "  },\n",
    "  {\n",
    "    \"id\": 2,\n",
    "    \"name\": \"Running\",\n",
    "    \"exercise_type\": 2,\n",
    "    \"category\": 1,\n",
    "    \"time\": 60,\n",
    "    \"repetitions\": 0,\n",
    "    \"effort\": 3,\n",
    "    \"enjoyment\": 5,\n",
    "    \"comfort\": 2,\n",
    "    \"wellbeing\": 4,\n",
    "    \"motivation\": 4,\n",
    "  },\n",
    "  # {\n",
    "  #   \"id\": 3,\n",
    "  #   \"name\": \"Cycling\",\n",
    "  #   \"exercise_type\": 3,\n",
    "  #   \"category\": 1,\n",
    "  #   \"time\": 30,\n",
    "  #   \"repetitions\": 0,\n",
    "  #   # \"effort\": 2,\n",
    "  #   # \"enjoyment\": 5,\n",
    "  #   # \"comfort\": 4,\n",
    "  #   # \"wellbeing\": 5,\n",
    "  #   # \"motivation\": 5,\n",
    "  #   \"effort\": 0,\n",
    "  #   \"enjoyment\": 0,\n",
    "  #   \"comfort\": 0,\n",
    "  #   \"wellbeing\": 0,\n",
    "  #   \"motivation\": 0,\n",
    "  # },\n",
    "]\n",
    "\n",
    "exercise_target = {\n",
    "    \"id\": 3,\n",
    "    \"name\": \"Cycling\",\n",
    "    \"exercise_type\": 3,\n",
    "    \"category\": 1,\n",
    "    \"time\": 30,\n",
    "    \"repetitions\": 0,\n",
    "  }\n"
   ]
  },
  {
   "cell_type": "code",
   "execution_count": 2,
   "metadata": {},
   "outputs": [
    {
     "name": "stdout",
     "output_type": "stream",
     "text": [
      "WARNING:tensorflow:From c:\\Users\\kkost\\.pyenv\\pyenv-win\\versions\\3.11.7\\Lib\\site-packages\\keras\\src\\losses.py:2976: The name tf.losses.sparse_softmax_cross_entropy is deprecated. Please use tf.compat.v1.losses.sparse_softmax_cross_entropy instead.\n",
      "\n"
     ]
    }
   ],
   "source": [
    "from recommendation_model.preprocessing import *\n",
    "from recommendation_model.model import *"
   ]
  },
  {
   "cell_type": "code",
   "execution_count": 3,
   "metadata": {},
   "outputs": [],
   "source": [
    "meals_df = preprocess_meals(meals)\n",
    "meal_target_df = preprocess_meal_target(meal_target)"
   ]
  },
  {
   "cell_type": "code",
   "execution_count": 4,
   "metadata": {},
   "outputs": [],
   "source": [
    "exercises_df = preprocess_exercises(exercises)"
   ]
  },
  {
   "cell_type": "code",
   "execution_count": 4,
   "metadata": {},
   "outputs": [
    {
     "name": "stdout",
     "output_type": "stream",
     "text": [
      "WARNING:tensorflow:From c:\\Users\\kkost\\.pyenv\\pyenv-win\\versions\\3.11.7\\Lib\\site-packages\\keras\\src\\backend.py:1398: The name tf.executing_eagerly_outside_functions is deprecated. Please use tf.compat.v1.executing_eagerly_outside_functions instead.\n",
      "\n",
      "Model: \"model\"\n",
      "__________________________________________________________________________________________________\n",
      " Layer (type)                Output Shape                 Param #   Connected to                  \n",
      "==================================================================================================\n",
      " input_1 (InputLayer)        [(None, 10, 12)]             0         []                            \n",
      "                                                                                                  \n",
      " specific_meal (InputLayer)  [(None, 7)]                  0         []                            \n",
      "                                                                                                  \n",
      " lstm (LSTM)                 (None, 64)                   19712     ['input_1[0][0]']             \n",
      "                                                                                                  \n",
      " dense (Dense)               (None, 64)                   512       ['specific_meal[0][0]']       \n",
      "                                                                                                  \n",
      " dropout (Dropout)           (None, 64)                   0         ['lstm[1][0]']                \n",
      "                                                                                                  \n",
      " dropout_1 (Dropout)         (None, 64)                   0         ['dense[1][0]']               \n",
      "                                                                                                  \n",
      " concatenate (Concatenate)   (None, 128)                  0         ['dropout[1][0]',             \n",
      "                                                                     'dropout_1[1][0]']           \n",
      "                                                                                                  \n",
      " dense_1 (Dense)             (None, 64)                   8256      ['concatenate[1][0]']         \n",
      "                                                                                                  \n",
      " dropout_2 (Dropout)         (None, 64)                   0         ['dense_1[1][0]']             \n",
      "                                                                                                  \n",
      " well_being_output (Dense)   (None, 1)                    65        ['dropout_2[1][0]']           \n",
      "                                                                                                  \n",
      "==================================================================================================\n",
      "Total params: 28545 (111.50 KB)\n",
      "Trainable params: 28545 (111.50 KB)\n",
      "Non-trainable params: 0 (0.00 Byte)\n",
      "__________________________________________________________________________________________________\n",
      "WARNING:tensorflow:From c:\\Users\\kkost\\.pyenv\\pyenv-win\\versions\\3.11.7\\Lib\\site-packages\\keras\\src\\optimizers\\__init__.py:309: The name tf.train.Optimizer is deprecated. Please use tf.compat.v1.train.Optimizer instead.\n",
      "\n",
      "Model: \"model_1\"\n",
      "_________________________________________________________________\n",
      " Layer (type)                Output Shape              Param #   \n",
      "=================================================================\n",
      " input_2 (InputLayer)        [(None, 10, 2)]           0         \n",
      "                                                                 \n",
      " lstm_1 (LSTM)               (None, 64)                17152     \n",
      "                                                                 \n",
      " dropout_3 (Dropout)         (None, 64)                0         \n",
      "                                                                 \n",
      " dense_2 (Dense)             (None, 32)                2080      \n",
      "                                                                 \n",
      " well_being_output (Dense)   (None, 1)                 33        \n",
      "                                                                 \n",
      "=================================================================\n",
      "Total params: 19265 (75.25 KB)\n",
      "Trainable params: 19265 (75.25 KB)\n",
      "Non-trainable params: 0 (0.00 Byte)\n",
      "_________________________________________________________________\n"
     ]
    }
   ],
   "source": [
    "model_meals = build_meal_model()\n",
    "model_exercises = build_exercise_model()"
   ]
  },
  {
   "cell_type": "code",
   "execution_count": 5,
   "metadata": {},
   "outputs": [],
   "source": [
    "import numpy as np\n",
    "\n",
    "meals_X_train_meal_history = meals_df.to_numpy().reshape(1, 2, 12)\n",
    "meals_X_train_meal_target = meal_target_df.to_numpy().reshape(1, 7)\n",
    "# meals_y_train = meals_df['health_index'].to_numpy().reshape(1, 3, 1)\n",
    "meals_y_train = np.array([meal_target_df[\"health_index\"].iloc[0]])"
   ]
  },
  {
   "cell_type": "code",
   "execution_count": 6,
   "metadata": {},
   "outputs": [
    {
     "name": "stdout",
     "output_type": "stream",
     "text": [
      "(15, 10, 12)\n",
      "(15, 7)\n",
      "(15, 1)\n"
     ]
    }
   ],
   "source": [
    "# duplicate the meal history 15 times\n",
    "meals_X_train_meal_history = np.tile(meals_X_train_meal_history, (15, 5, 1))\n",
    "meals_X_train_meal_target = np.tile(meals_X_train_meal_target, (15, 1))\n",
    "meals_y_train = np.tile(meals_y_train, (15, 1))\n",
    "print(meals_X_train_meal_history.shape)\n",
    "print(meals_X_train_meal_target.shape)\n",
    "print(meals_y_train.shape)"
   ]
  },
  {
   "cell_type": "code",
   "execution_count": 7,
   "metadata": {},
   "outputs": [
    {
     "name": "stdout",
     "output_type": "stream",
     "text": [
      "Epoch 1/20\n",
      "WARNING:tensorflow:From c:\\Users\\kkost\\.pyenv\\pyenv-win\\versions\\3.11.7\\Lib\\site-packages\\keras\\src\\utils\\tf_utils.py:492: The name tf.ragged.RaggedTensorValue is deprecated. Please use tf.compat.v1.ragged.RaggedTensorValue instead.\n",
      "\n",
      "WARNING:tensorflow:From c:\\Users\\kkost\\.pyenv\\pyenv-win\\versions\\3.11.7\\Lib\\site-packages\\keras\\src\\engine\\base_layer_utils.py:384: The name tf.executing_eagerly_outside_functions is deprecated. Please use tf.compat.v1.executing_eagerly_outside_functions instead.\n",
      "\n",
      "12/12 [==============================] - 3s 56ms/step - loss: 156.7453 - mae: 9.3690 - val_loss: 62.9843 - val_mae: 7.9363\n",
      "Epoch 2/20\n",
      "12/12 [==============================] - 0s 8ms/step - loss: 107.0219 - mae: 7.9393 - val_loss: 10.9876 - val_mae: 3.3147\n",
      "Epoch 3/20\n",
      "12/12 [==============================] - 0s 7ms/step - loss: 71.5563 - mae: 6.8446 - val_loss: 0.7631 - val_mae: 0.8736\n",
      "Epoch 4/20\n",
      "12/12 [==============================] - 0s 7ms/step - loss: 130.1176 - mae: 10.5010 - val_loss: 1.1480 - val_mae: 1.0714\n",
      "Epoch 5/20\n",
      "12/12 [==============================] - 0s 6ms/step - loss: 87.1491 - mae: 9.0204 - val_loss: 11.3416 - val_mae: 3.3677\n",
      "Epoch 6/20\n",
      "12/12 [==============================] - 0s 6ms/step - loss: 79.8678 - mae: 7.0078 - val_loss: 37.3830 - val_mae: 6.1142\n",
      "Epoch 7/20\n",
      "12/12 [==============================] - 0s 6ms/step - loss: 34.3646 - mae: 4.7362 - val_loss: 32.2806 - val_mae: 5.6816\n",
      "Epoch 8/20\n",
      "12/12 [==============================] - 0s 7ms/step - loss: 59.6487 - mae: 6.8869 - val_loss: 11.3272 - val_mae: 3.3656\n",
      "Epoch 9/20\n",
      "12/12 [==============================] - 0s 7ms/step - loss: 57.9321 - mae: 6.5224 - val_loss: 10.3754 - val_mae: 3.2211\n",
      "Epoch 10/20\n",
      "12/12 [==============================] - 0s 7ms/step - loss: 20.9525 - mae: 3.5309 - val_loss: 3.1845 - val_mae: 1.7845\n",
      "Epoch 11/20\n",
      "12/12 [==============================] - 0s 7ms/step - loss: 53.0271 - mae: 6.5225 - val_loss: 0.5607 - val_mae: 0.7488\n",
      "Epoch 12/20\n",
      "12/12 [==============================] - 0s 7ms/step - loss: 54.6144 - mae: 5.4240 - val_loss: 0.8164 - val_mae: 0.9036\n",
      "Epoch 13/20\n",
      "12/12 [==============================] - 0s 7ms/step - loss: 90.7481 - mae: 8.0984 - val_loss: 0.1581 - val_mae: 0.3976\n",
      "Epoch 14/20\n",
      "12/12 [==============================] - 0s 6ms/step - loss: 28.6831 - mae: 4.5626 - val_loss: 0.0153 - val_mae: 0.1237\n",
      "Epoch 15/20\n",
      "12/12 [==============================] - 0s 6ms/step - loss: 105.9485 - mae: 8.1754 - val_loss: 0.4663 - val_mae: 0.6829\n",
      "Epoch 16/20\n",
      "12/12 [==============================] - 0s 7ms/step - loss: 42.8464 - mae: 5.7019 - val_loss: 2.6158 - val_mae: 1.6174\n",
      "Epoch 17/20\n",
      "12/12 [==============================] - 0s 7ms/step - loss: 13.3576 - mae: 2.9770 - val_loss: 1.8906 - val_mae: 1.3750\n",
      "Epoch 18/20\n",
      "12/12 [==============================] - 0s 7ms/step - loss: 24.9387 - mae: 3.7427 - val_loss: 0.5641 - val_mae: 0.7511\n",
      "Epoch 19/20\n",
      "12/12 [==============================] - 0s 7ms/step - loss: 38.1674 - mae: 5.5248 - val_loss: 0.0328 - val_mae: 0.1812\n",
      "Epoch 20/20\n",
      "12/12 [==============================] - 0s 8ms/step - loss: 36.7618 - mae: 5.1158 - val_loss: 0.7201 - val_mae: 0.8486\n"
     ]
    }
   ],
   "source": [
    "history = pretrain_meal_model(model_meals, meals_X_train_meal_history, meals_X_train_meal_target, meals_y_train)"
   ]
  },
  {
   "cell_type": "code",
   "execution_count": 8,
   "metadata": {},
   "outputs": [
    {
     "data": {
      "text/plain": [
       "<keras.src.callbacks.History at 0x20a50b40190>"
      ]
     },
     "execution_count": 8,
     "metadata": {},
     "output_type": "execute_result"
    }
   ],
   "source": [
    "history"
   ]
  },
  {
   "cell_type": "code",
   "execution_count": 8,
   "metadata": {},
   "outputs": [
    {
     "name": "stdout",
     "output_type": "stream",
     "text": [
      "1/1 [==============================] - 0s 437ms/step\n",
      "[[5.8460836]]\n"
     ]
    }
   ],
   "source": [
    "# predict the health index of a meals list\n",
    "meal_history = meals_df.to_numpy().reshape(1, 2, 12)\n",
    "meal_history = np.tile(meal_history, (1, 5, 1))\n",
    "meal_target = meal_target_df.to_numpy().reshape(1, 7)\n",
    "predicted_health_index = model_meals.predict([meal_history, meal_target])\n",
    "print(predicted_health_index)"
   ]
  },
  {
   "cell_type": "code",
   "execution_count": 9,
   "metadata": {},
   "outputs": [
    {
     "name": "stderr",
     "output_type": "stream",
     "text": [
      "c:\\Users\\kkost\\.pyenv\\pyenv-win\\versions\\3.11.7\\Lib\\site-packages\\keras\\src\\engine\\training.py:3103: UserWarning: You are saving your model as an HDF5 file via `model.save()`. This file format is considered legacy. We recommend using instead the native Keras format, e.g. `model.save('my_model.keras')`.\n",
      "  saving_api.save_model(\n"
     ]
    }
   ],
   "source": [
    "# Save the model\n",
    "model_meals.save('recommendation_model/model_meals.h5')"
   ]
  },
  {
   "cell_type": "code",
   "execution_count": null,
   "metadata": {},
   "outputs": [],
   "source": [
    "# Load the model\n",
    "from keras.models import load_model\n",
    "model = load_model('path/to/your_model.h5')"
   ]
  },
  {
   "cell_type": "code",
   "execution_count": 10,
   "metadata": {},
   "outputs": [],
   "source": [
    "from recommendation_model.interface import *"
   ]
  },
  {
   "cell_type": "code",
   "execution_count": 15,
   "metadata": {},
   "outputs": [
    {
     "name": "stdout",
     "output_type": "stream",
     "text": [
      "[{'id': 1, 'name': 'Spaghetti Bolognese', 'health_index': 3, 'glycemic_index': 52, 'protein': 7, 'carbohydrates': 15, 'fats': 8.5, 'fiber': 1, 'meal_type': 2, 'weight': 200, 'satisfaction': 3, 'flavor': 3, 'satiety': 3, 'digestions': 3, 'energy': 3}, {'id': 2, 'name': 'Wheat bread', 'health_index': 4, 'glycemic_index': 70, 'protein': 10.7, 'carbohydrates': 47.5, 'fats': 4.53, 'fiber': 4, 'meal_type': 1, 'weight': 400, 'satisfaction': 4, 'flavor': 4, 'satiety': 4, 'digestions': 4, 'energy': 4}, {'id': 1, 'name': 'Spaghetti Bolognese', 'health_index': 3, 'glycemic_index': 52, 'protein': 7, 'carbohydrates': 15, 'fats': 8.5, 'fiber': 1, 'meal_type': 2, 'weight': 200, 'satisfaction': 3, 'flavor': 3, 'satiety': 3, 'digestions': 3, 'energy': 3}, {'id': 2, 'name': 'Wheat bread', 'health_index': 4, 'glycemic_index': 70, 'protein': 10.7, 'carbohydrates': 47.5, 'fats': 4.53, 'fiber': 4, 'meal_type': 1, 'weight': 400, 'satisfaction': 4, 'flavor': 4, 'satiety': 4, 'digestions': 4, 'energy': 4}, {'id': 1, 'name': 'Spaghetti Bolognese', 'health_index': 3, 'glycemic_index': 52, 'protein': 7, 'carbohydrates': 15, 'fats': 8.5, 'fiber': 1, 'meal_type': 2, 'weight': 200, 'satisfaction': 3, 'flavor': 3, 'satiety': 3, 'digestions': 3, 'energy': 3}, {'id': 2, 'name': 'Wheat bread', 'health_index': 4, 'glycemic_index': 70, 'protein': 10.7, 'carbohydrates': 47.5, 'fats': 4.53, 'fiber': 4, 'meal_type': 1, 'weight': 400, 'satisfaction': 4, 'flavor': 4, 'satiety': 4, 'digestions': 4, 'energy': 4}, {'id': 1, 'name': 'Spaghetti Bolognese', 'health_index': 3, 'glycemic_index': 52, 'protein': 7, 'carbohydrates': 15, 'fats': 8.5, 'fiber': 1, 'meal_type': 2, 'weight': 200, 'satisfaction': 3, 'flavor': 3, 'satiety': 3, 'digestions': 3, 'energy': 3}, {'id': 2, 'name': 'Wheat bread', 'health_index': 4, 'glycemic_index': 70, 'protein': 10.7, 'carbohydrates': 47.5, 'fats': 4.53, 'fiber': 4, 'meal_type': 1, 'weight': 400, 'satisfaction': 4, 'flavor': 4, 'satiety': 4, 'digestions': 4, 'energy': 4}, {'id': 1, 'name': 'Spaghetti Bolognese', 'health_index': 3, 'glycemic_index': 52, 'protein': 7, 'carbohydrates': 15, 'fats': 8.5, 'fiber': 1, 'meal_type': 2, 'weight': 200, 'satisfaction': 3, 'flavor': 3, 'satiety': 3, 'digestions': 3, 'energy': 3}, {'id': 2, 'name': 'Wheat bread', 'health_index': 4, 'glycemic_index': 70, 'protein': 10.7, 'carbohydrates': 47.5, 'fats': 4.53, 'fiber': 4, 'meal_type': 1, 'weight': 400, 'satisfaction': 4, 'flavor': 4, 'satiety': 4, 'digestions': 4, 'energy': 4}]\n"
     ]
    }
   ],
   "source": [
    "meal_history = [meal for _ in range(5) for meal in meals]\n",
    "print(meal_history)\n",
    "# meal_history = np.tile(meal_history, (1, 5, 1))\n",
    "\n",
    "# make up 5 available meals\n",
    "available_meals = [\n",
    "  {\n",
    "    \"id\": 1,\n",
    "    \"name\": \"Spaghetti Bolognese\",\n",
    "    \"health_index\": 3,\n",
    "    \"glycemic_index\": 52,\n",
    "    \"protein\": 7,\n",
    "    \"carbohydrates\": 15,\n",
    "    \"fats\": 8.5,\n",
    "    \"fiber\": 1,\n",
    "    \"meal_type\": 2\n",
    "  },\n",
    "  {\n",
    "    \"id\": 2,\n",
    "    \"name\": \"Wheat bread\",\n",
    "    \"health_index\": 4,\n",
    "    \"glycemic_index\": 70,\n",
    "    \"protein\": 10.7,\n",
    "    \"carbohydrates\": 47.5,\n",
    "    \"fats\": 4.53,\n",
    "    \"fiber\": 4,\n",
    "    \"meal_type\": 1\n",
    "  },\n",
    "  {\n",
    "    \"id\": 3,\n",
    "    \"name\": \"Rye bread\",\n",
    "    \"health_index\": 5,\n",
    "    \"glycemic_index\": 65,\n",
    "    \"protein\": 9,\n",
    "    \"carbohydrates\": 48,\n",
    "    \"fats\": 3.3,\n",
    "    \"fiber\": 5.8,\n",
    "    \"meal_type\": 1\n",
    "  },\n",
    "  {\n",
    "    \"id\": 4,\n",
    "    \"name\": \"Tomatoes\",\n",
    "    \"health_index\": 5,\n",
    "    \"glycemic_index\": 30,\n",
    "    \"protein\": 1.1,\n",
    "    \"carbohydrates\": 3.8,\n",
    "    \"fats\": 0.2,\n",
    "    \"fiber\": 1.2,\n",
    "    \"meal_type\": 1\n",
    "  },\n",
    "  {\n",
    "    \"id\": 5,\n",
    "    \"name\": \"Cucumber\",\n",
    "    \"health_index\": 5,\n",
    "    \"glycemic_index\": 15,\n",
    "    \"protein\": 0.65,\n",
    "    \"carbohydrates\": 3.63,\n",
    "    \"fats\": 0.11,\n",
    "    \"fiber\": 0.5,\n",
    "    \"meal_type\": 1\n",
    "  }\n",
    "]"
   ]
  },
  {
   "cell_type": "code",
   "execution_count": 14,
   "metadata": {},
   "outputs": [
    {
     "ename": "KeyError",
     "evalue": "'weight'",
     "output_type": "error",
     "traceback": [
      "\u001b[1;31m---------------------------------------------------------------------------\u001b[0m",
      "\u001b[1;31mKeyError\u001b[0m                                  Traceback (most recent call last)",
      "File \u001b[1;32mc:\\Users\\kkost\\.pyenv\\pyenv-win\\versions\\3.11.7\\Lib\\site-packages\\pandas\\core\\indexes\\base.py:3802\u001b[0m, in \u001b[0;36mIndex.get_loc\u001b[1;34m(self, key)\u001b[0m\n\u001b[0;32m   3801\u001b[0m \u001b[38;5;28;01mtry\u001b[39;00m:\n\u001b[1;32m-> 3802\u001b[0m     \u001b[38;5;28;01mreturn\u001b[39;00m \u001b[38;5;28;43mself\u001b[39;49m\u001b[38;5;241;43m.\u001b[39;49m\u001b[43m_engine\u001b[49m\u001b[38;5;241;43m.\u001b[39;49m\u001b[43mget_loc\u001b[49m\u001b[43m(\u001b[49m\u001b[43mcasted_key\u001b[49m\u001b[43m)\u001b[49m\n\u001b[0;32m   3803\u001b[0m \u001b[38;5;28;01mexcept\u001b[39;00m \u001b[38;5;167;01mKeyError\u001b[39;00m \u001b[38;5;28;01mas\u001b[39;00m err:\n",
      "File \u001b[1;32mindex.pyx:153\u001b[0m, in \u001b[0;36mpandas._libs.index.IndexEngine.get_loc\u001b[1;34m()\u001b[0m\n",
      "File \u001b[1;32mindex.pyx:182\u001b[0m, in \u001b[0;36mpandas._libs.index.IndexEngine.get_loc\u001b[1;34m()\u001b[0m\n",
      "File \u001b[1;32mpandas\\\\_libs\\\\hashtable_class_helper.pxi:7081\u001b[0m, in \u001b[0;36mpandas._libs.hashtable.PyObjectHashTable.get_item\u001b[1;34m()\u001b[0m\n",
      "File \u001b[1;32mpandas\\\\_libs\\\\hashtable_class_helper.pxi:7089\u001b[0m, in \u001b[0;36mpandas._libs.hashtable.PyObjectHashTable.get_item\u001b[1;34m()\u001b[0m\n",
      "\u001b[1;31mKeyError\u001b[0m: 'weight'",
      "\nThe above exception was the direct cause of the following exception:\n",
      "\u001b[1;31mKeyError\u001b[0m                                  Traceback (most recent call last)",
      "Cell \u001b[1;32mIn[14], line 1\u001b[0m\n\u001b[1;32m----> 1\u001b[0m \u001b[38;5;28mprint\u001b[39m(\u001b[43mget_meal_recommendation\u001b[49m\u001b[43m(\u001b[49m\u001b[43mmeal_history\u001b[49m\u001b[43m,\u001b[49m\u001b[43m \u001b[49m\u001b[43mavailable_meals\u001b[49m\u001b[43m)\u001b[49m)\n",
      "File \u001b[1;32mc:\\Users\\kkost\\Desktop\\wellbeing_assistant\\wellbeing-assistant\\recommendation_model\\interface.py:26\u001b[0m, in \u001b[0;36mget_meal_recommendation\u001b[1;34m(meal_history, available_meals)\u001b[0m\n\u001b[0;32m     24\u001b[0m \u001b[38;5;66;03m# preprocess the meal history\u001b[39;00m\n\u001b[0;32m     25\u001b[0m meal_history \u001b[38;5;241m=\u001b[39m preprocess_meals(meal_history)\n\u001b[1;32m---> 26\u001b[0m available_meals \u001b[38;5;241m=\u001b[39m \u001b[43m[\u001b[49m\u001b[43mpreprocess_meal_target\u001b[49m\u001b[43m(\u001b[49m\u001b[43mmeal\u001b[49m\u001b[43m)\u001b[49m\u001b[43m \u001b[49m\u001b[38;5;28;43;01mfor\u001b[39;49;00m\u001b[43m \u001b[49m\u001b[43mmeal\u001b[49m\u001b[43m \u001b[49m\u001b[38;5;129;43;01min\u001b[39;49;00m\u001b[43m \u001b[49m\u001b[43mavailable_meals\u001b[49m\u001b[43m]\u001b[49m\n\u001b[0;32m     28\u001b[0m \u001b[38;5;66;03m# iterate through each meal in available_meals\u001b[39;00m\n\u001b[0;32m     29\u001b[0m \u001b[38;5;66;03m# and 5 weights for each meal, between mu - 2*sigma and mu + 2*sigma, where mu is the mean and sigma is the standard deviation for the weights in meal history\u001b[39;00m\n\u001b[0;32m     30\u001b[0m \u001b[38;5;66;03m# and calculate the well-being score for each meal\u001b[39;00m\n\u001b[0;32m     31\u001b[0m \u001b[38;5;28;01mfor\u001b[39;00m meal \u001b[38;5;129;01min\u001b[39;00m available_meals:\n",
      "File \u001b[1;32mc:\\Users\\kkost\\Desktop\\wellbeing_assistant\\wellbeing-assistant\\recommendation_model\\interface.py:26\u001b[0m, in \u001b[0;36m<listcomp>\u001b[1;34m(.0)\u001b[0m\n\u001b[0;32m     24\u001b[0m \u001b[38;5;66;03m# preprocess the meal history\u001b[39;00m\n\u001b[0;32m     25\u001b[0m meal_history \u001b[38;5;241m=\u001b[39m preprocess_meals(meal_history)\n\u001b[1;32m---> 26\u001b[0m available_meals \u001b[38;5;241m=\u001b[39m [\u001b[43mpreprocess_meal_target\u001b[49m\u001b[43m(\u001b[49m\u001b[43mmeal\u001b[49m\u001b[43m)\u001b[49m \u001b[38;5;28;01mfor\u001b[39;00m meal \u001b[38;5;129;01min\u001b[39;00m available_meals]\n\u001b[0;32m     28\u001b[0m \u001b[38;5;66;03m# iterate through each meal in available_meals\u001b[39;00m\n\u001b[0;32m     29\u001b[0m \u001b[38;5;66;03m# and 5 weights for each meal, between mu - 2*sigma and mu + 2*sigma, where mu is the mean and sigma is the standard deviation for the weights in meal history\u001b[39;00m\n\u001b[0;32m     30\u001b[0m \u001b[38;5;66;03m# and calculate the well-being score for each meal\u001b[39;00m\n\u001b[0;32m     31\u001b[0m \u001b[38;5;28;01mfor\u001b[39;00m meal \u001b[38;5;129;01min\u001b[39;00m available_meals:\n",
      "File \u001b[1;32mc:\\Users\\kkost\\Desktop\\wellbeing_assistant\\wellbeing-assistant\\recommendation_model\\preprocessing.py:18\u001b[0m, in \u001b[0;36mpreprocess_meal_target\u001b[1;34m(meal)\u001b[0m\n\u001b[0;32m     15\u001b[0m meal_df \u001b[38;5;241m=\u001b[39m meal_df\u001b[38;5;241m.\u001b[39mdrop(columns\u001b[38;5;241m=\u001b[39m[\u001b[38;5;124m\"\u001b[39m\u001b[38;5;124mid\u001b[39m\u001b[38;5;124m\"\u001b[39m, \u001b[38;5;124m\"\u001b[39m\u001b[38;5;124mmeal_type\u001b[39m\u001b[38;5;124m\"\u001b[39m, \u001b[38;5;124m\"\u001b[39m\u001b[38;5;124mname\u001b[39m\u001b[38;5;124m\"\u001b[39m])\n\u001b[0;32m     17\u001b[0m \u001b[38;5;66;03m# normalize weight\u001b[39;00m\n\u001b[1;32m---> 18\u001b[0m meal_df[\u001b[38;5;124m\"\u001b[39m\u001b[38;5;124mweight\u001b[39m\u001b[38;5;124m\"\u001b[39m] \u001b[38;5;241m=\u001b[39m \u001b[43mmeal_df\u001b[49m\u001b[43m[\u001b[49m\u001b[38;5;124;43m\"\u001b[39;49m\u001b[38;5;124;43mweight\u001b[39;49m\u001b[38;5;124;43m\"\u001b[39;49m\u001b[43m]\u001b[49m \u001b[38;5;241m/\u001b[39m meal_df[\u001b[38;5;124m\"\u001b[39m\u001b[38;5;124mweight\u001b[39m\u001b[38;5;124m\"\u001b[39m]\u001b[38;5;241m.\u001b[39mmax()\n\u001b[0;32m     20\u001b[0m \u001b[38;5;28;01mreturn\u001b[39;00m meal_df\n",
      "File \u001b[1;32mc:\\Users\\kkost\\.pyenv\\pyenv-win\\versions\\3.11.7\\Lib\\site-packages\\pandas\\core\\frame.py:4090\u001b[0m, in \u001b[0;36mDataFrame.__getitem__\u001b[1;34m(self, key)\u001b[0m\n\u001b[0;32m   4088\u001b[0m \u001b[38;5;28;01mif\u001b[39;00m \u001b[38;5;28mself\u001b[39m\u001b[38;5;241m.\u001b[39mcolumns\u001b[38;5;241m.\u001b[39mnlevels \u001b[38;5;241m>\u001b[39m \u001b[38;5;241m1\u001b[39m:\n\u001b[0;32m   4089\u001b[0m     \u001b[38;5;28;01mreturn\u001b[39;00m \u001b[38;5;28mself\u001b[39m\u001b[38;5;241m.\u001b[39m_getitem_multilevel(key)\n\u001b[1;32m-> 4090\u001b[0m indexer \u001b[38;5;241m=\u001b[39m \u001b[38;5;28;43mself\u001b[39;49m\u001b[38;5;241;43m.\u001b[39;49m\u001b[43mcolumns\u001b[49m\u001b[38;5;241;43m.\u001b[39;49m\u001b[43mget_loc\u001b[49m\u001b[43m(\u001b[49m\u001b[43mkey\u001b[49m\u001b[43m)\u001b[49m\n\u001b[0;32m   4091\u001b[0m \u001b[38;5;28;01mif\u001b[39;00m is_integer(indexer):\n\u001b[0;32m   4092\u001b[0m     indexer \u001b[38;5;241m=\u001b[39m [indexer]\n",
      "File \u001b[1;32mc:\\Users\\kkost\\.pyenv\\pyenv-win\\versions\\3.11.7\\Lib\\site-packages\\pandas\\core\\indexes\\base.py:3809\u001b[0m, in \u001b[0;36mIndex.get_loc\u001b[1;34m(self, key)\u001b[0m\n\u001b[0;32m   3804\u001b[0m     \u001b[38;5;28;01mif\u001b[39;00m \u001b[38;5;28misinstance\u001b[39m(casted_key, \u001b[38;5;28mslice\u001b[39m) \u001b[38;5;129;01mor\u001b[39;00m (\n\u001b[0;32m   3805\u001b[0m         \u001b[38;5;28misinstance\u001b[39m(casted_key, abc\u001b[38;5;241m.\u001b[39mIterable)\n\u001b[0;32m   3806\u001b[0m         \u001b[38;5;129;01mand\u001b[39;00m \u001b[38;5;28many\u001b[39m(\u001b[38;5;28misinstance\u001b[39m(x, \u001b[38;5;28mslice\u001b[39m) \u001b[38;5;28;01mfor\u001b[39;00m x \u001b[38;5;129;01min\u001b[39;00m casted_key)\n\u001b[0;32m   3807\u001b[0m     ):\n\u001b[0;32m   3808\u001b[0m         \u001b[38;5;28;01mraise\u001b[39;00m InvalidIndexError(key)\n\u001b[1;32m-> 3809\u001b[0m     \u001b[38;5;28;01mraise\u001b[39;00m \u001b[38;5;167;01mKeyError\u001b[39;00m(key) \u001b[38;5;28;01mfrom\u001b[39;00m \u001b[38;5;21;01merr\u001b[39;00m\n\u001b[0;32m   3810\u001b[0m \u001b[38;5;28;01mexcept\u001b[39;00m \u001b[38;5;167;01mTypeError\u001b[39;00m:\n\u001b[0;32m   3811\u001b[0m     \u001b[38;5;66;03m# If we have a listlike key, _check_indexing_error will raise\u001b[39;00m\n\u001b[0;32m   3812\u001b[0m     \u001b[38;5;66;03m#  InvalidIndexError. Otherwise we fall through and re-raise\u001b[39;00m\n\u001b[0;32m   3813\u001b[0m     \u001b[38;5;66;03m#  the TypeError.\u001b[39;00m\n\u001b[0;32m   3814\u001b[0m     \u001b[38;5;28mself\u001b[39m\u001b[38;5;241m.\u001b[39m_check_indexing_error(key)\n",
      "\u001b[1;31mKeyError\u001b[0m: 'weight'"
     ]
    }
   ],
   "source": [
    "print(get_meal_recommendation(meal_history, available_meals))"
   ]
  }
 ],
 "metadata": {
  "kernelspec": {
   "display_name": "Python 3",
   "language": "python",
   "name": "python3"
  },
  "language_info": {
   "codemirror_mode": {
    "name": "ipython",
    "version": 3
   },
   "file_extension": ".py",
   "mimetype": "text/x-python",
   "name": "python",
   "nbconvert_exporter": "python",
   "pygments_lexer": "ipython3",
   "version": "3.11.7"
  }
 },
 "nbformat": 4,
 "nbformat_minor": 2
}
